{
 "cells": [
  {
   "cell_type": "markdown",
   "id": "8d040eb9",
   "metadata": {},
   "source": [
    "# Edit Your Expectation Suite\n",
    "Use this notebook to recreate and modify your expectation suite:\n",
    "\n",
    "**Expectation Suite Name**: `adubinsky.ods_payment.warning`\n",
    "\n",
    "We'd love it if you **reach out to us on** the [**Great Expectations Slack Channel**](https://greatexpectations.io/slack)"
   ]
  },
  {
   "cell_type": "code",
   "execution_count": null,
   "id": "085c0c21",
   "metadata": {},
   "outputs": [],
   "source": [
    "import datetime\n",
    "import great_expectations as ge\n",
    "import great_expectations.jupyter_ux\n",
    "from great_expectations.checkpoint import LegacyCheckpoint\n",
    "from great_expectations.data_context.types.resource_identifiers import ValidationResultIdentifier\n",
    "\n",
    "context = ge.data_context.DataContext()\n",
    "\n",
    "# Feel free to change the name of your suite here. Renaming this will not\n",
    "# remove the other one.\n",
    "expectation_suite_name = \"adubinsky.ods_payment.warning\"\n",
    "suite = context.get_expectation_suite(expectation_suite_name)\n",
    "suite.expectations = []\n",
    "\n",
    "batch_kwargs = {'data_asset_name': 'adubinsky.ods_payment', 'datasource': 'gp', 'limit': 1000, 'schema': 'adubinsky', 'table': 'ods_payment'}\n",
    "batch = context.get_batch(batch_kwargs, suite)\n",
    "batch.head()"
   ]
  },
  {
   "cell_type": "markdown",
   "id": "17598f1a",
   "metadata": {},
   "source": [
    "## Create & Edit Expectations\n",
    "\n",
    "Add expectations by calling specific expectation methods on the `batch` object. They all begin with `.expect_` which makes autocompleting easy using tab.\n",
    "\n",
    "You can see all the available expectations in the **[expectation glossary](https://docs.greatexpectations.io/en/latest/reference/glossary_of_expectations.html?utm_source=notebook&utm_medium=create_expectations)**."
   ]
  },
  {
   "cell_type": "markdown",
   "id": "f08da65e",
   "metadata": {},
   "source": [
    "### Table Expectation(s)"
   ]
  },
  {
   "cell_type": "code",
   "execution_count": null,
   "id": "4454eb90",
   "metadata": {},
   "outputs": [],
   "source": [
    "batch.expect_table_column_count_to_equal(value=9)"
   ]
  },
  {
   "cell_type": "code",
   "execution_count": null,
   "id": "0222f500",
   "metadata": {},
   "outputs": [],
   "source": [
    "batch.expect_table_columns_to_match_ordered_list(column_list=['user_id', 'pay_doc_type', 'pay_doc_num', 'account', 'phone', 'billing_period', 'pay_date', 'sum', 'src_name'])"
   ]
  },
  {
   "cell_type": "markdown",
   "id": "956d3496",
   "metadata": {},
   "source": [
    "### Column Expectation(s)"
   ]
  },
  {
   "cell_type": "markdown",
   "id": "6a1ec414",
   "metadata": {},
   "source": [
    "#### `user_id`"
   ]
  },
  {
   "cell_type": "code",
   "execution_count": null,
   "id": "39c8a2fe",
   "metadata": {},
   "outputs": [],
   "source": [
    "batch.expect_column_values_to_not_be_null(column='user_id')"
   ]
  },
  {
   "cell_type": "markdown",
   "id": "8798d6a6",
   "metadata": {},
   "source": [
    "#### `pay_doc_type`"
   ]
  },
  {
   "cell_type": "code",
   "execution_count": null,
   "id": "c2042777",
   "metadata": {},
   "outputs": [],
   "source": [
    "batch.expect_column_distinct_values_to_be_in_set(column='pay_doc_type', value_set=['MAESTRO', 'MASTERCARD', 'MIR', 'VISA', 'AE'])"
   ]
  },
  {
   "cell_type": "markdown",
   "id": "91aef7e8",
   "metadata": {},
   "source": [
    "#### `pay_doc_num`"
   ]
  },
  {
   "cell_type": "code",
   "execution_count": null,
   "id": "ae1a3c4f",
   "metadata": {},
   "outputs": [],
   "source": [
    "batch.expect_column_values_to_be_unique(column='pay_doc_num')"
   ]
  },
  {
   "cell_type": "markdown",
   "id": "1794e9c1",
   "metadata": {},
   "source": [
    "#### `account`"
   ]
  },
  {
   "cell_type": "code",
   "execution_count": null,
   "id": "975520d9",
   "metadata": {},
   "outputs": [],
   "source": [
    "batch.expect_column_values_to_match_regex(column='account', regex='^FL-[0-9]*')"
   ]
  },
  {
   "cell_type": "markdown",
   "id": "5f95ae2e",
   "metadata": {},
   "source": [
    "#### `phone`"
   ]
  },
  {
   "cell_type": "code",
   "execution_count": null,
   "id": "82e4f979",
   "metadata": {},
   "outputs": [],
   "source": [
    "batch.expect_column_values_to_match_regex(column='phone', regex='^(\\+7)[\\d]{10}')"
   ]
  },
  {
   "cell_type": "markdown",
   "id": "1f9f4445",
   "metadata": {},
   "source": [
    "#### `billing_period`"
   ]
  },
  {
   "cell_type": "code",
   "execution_count": null,
   "id": "5a8c72c0",
   "metadata": {},
   "outputs": [],
   "source": [
    "batch.expect_column_values_to_match_regex(column='billing_period', regex='^(20)(1|2)[0-9]{1}(-)(0?[1-9]|1[0-2])')"
   ]
  },
  {
   "cell_type": "markdown",
   "id": "3e6e29fc",
   "metadata": {},
   "source": [
    "#### `pay_date`"
   ]
  },
  {
   "cell_type": "code",
   "execution_count": null,
   "id": "f211ff81",
   "metadata": {},
   "outputs": [],
   "source": [
    "batch.expect_column_values_to_be_between(column='pay_date', max_value='2021-12-31', min_value='2013-01-01')"
   ]
  },
  {
   "cell_type": "markdown",
   "id": "bc9b474f",
   "metadata": {},
   "source": [
    "#### `sum`"
   ]
  },
  {
   "cell_type": "code",
   "execution_count": null,
   "id": "28cc86dd",
   "metadata": {},
   "outputs": [],
   "source": [
    "batch.expect_column_values_to_be_between(column='sum', max_value='999999999999', min_value='0')"
   ]
  },
  {
   "cell_type": "markdown",
   "id": "4841227b",
   "metadata": {},
   "source": [
    "#### `src_name`"
   ]
  },
  {
   "cell_type": "code",
   "execution_count": null,
   "id": "37ddd9b4",
   "metadata": {},
   "outputs": [],
   "source": [
    "batch.expect_column_distinct_values_to_be_in_set(column='src_name', value_set=['stg_payment'])"
   ]
  },
  {
   "cell_type": "markdown",
   "id": "c5d7a825",
   "metadata": {},
   "source": [
    "## Save & Review Your Expectations\n",
    "\n",
    "Let's save the expectation suite as a JSON file in the `great_expectations/expectations` directory of your project.\n",
    "If you decide not to save some expectations that you created, use [remove_expectation method](https://docs.greatexpectations.io/en/latest/autoapi/great_expectations/data_asset/index.html?highlight=remove_expectation&utm_source=notebook&utm_medium=edit_expectations#great_expectations.data_asset.DataAsset.remove_expectation).\n",
    "\n",
    "Let's now rebuild your Data Docs, which helps you communicate about your data with both machines and humans."
   ]
  },
  {
   "cell_type": "code",
   "execution_count": null,
   "id": "2bafa295",
   "metadata": {},
   "outputs": [],
   "source": [
    "batch.save_expectation_suite(discard_failed_expectations=False)\n",
    "\n",
    "results = LegacyCheckpoint(\n",
    "    name=\"_temp_checkpoint\",\n",
    "    data_context=context,\n",
    "    batches=[\n",
    "        {\n",
    "          \"batch_kwargs\": batch_kwargs,\n",
    "          \"expectation_suite_names\": [expectation_suite_name]\n",
    "        }\n",
    "    ]\n",
    ").run()\n",
    "validation_result_identifier = results.list_validation_result_identifiers()[0]\n",
    "context.build_data_docs()\n",
    "context.open_data_docs(validation_result_identifier)"
   ]
  }
 ],
 "metadata": {},
 "nbformat": 4,
 "nbformat_minor": 5
}
