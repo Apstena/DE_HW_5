{
 "cells": [
  {
   "cell_type": "markdown",
   "id": "01f4216e",
   "metadata": {},
   "source": [
    "# Edit Your Expectation Suite\n",
    "Use this notebook to recreate and modify your expectation suite:\n",
    "\n",
    "**Expectation Suite Name**: `adubinsky.ods_traffic.warning`\n",
    "\n",
    "We'd love it if you **reach out to us on** the [**Great Expectations Slack Channel**](https://greatexpectations.io/slack)"
   ]
  },
  {
   "cell_type": "code",
   "execution_count": null,
   "id": "a5199947",
   "metadata": {},
   "outputs": [],
   "source": [
    "import datetime\n",
    "import great_expectations as ge\n",
    "import great_expectations.jupyter_ux\n",
    "from great_expectations.checkpoint import LegacyCheckpoint\n",
    "from great_expectations.data_context.types.resource_identifiers import ValidationResultIdentifier\n",
    "\n",
    "context = ge.data_context.DataContext()\n",
    "\n",
    "# Feel free to change the name of your suite here. Renaming this will not\n",
    "# remove the other one.\n",
    "expectation_suite_name = \"adubinsky.ods_traffic.warning\"\n",
    "suite = context.get_expectation_suite(expectation_suite_name)\n",
    "suite.expectations = []\n",
    "\n",
    "batch_kwargs = {'data_asset_name': 'adubinsky.ods_traffic', 'datasource': 'gp', 'limit': 1000, 'schema': 'adubinsky', 'table': 'ods_traffic'}\n",
    "batch = context.get_batch(batch_kwargs, suite)\n",
    "batch.head()"
   ]
  },
  {
   "cell_type": "markdown",
   "id": "6fbecb5c",
   "metadata": {},
   "source": [
    "## Create & Edit Expectations\n",
    "\n",
    "Add expectations by calling specific expectation methods on the `batch` object. They all begin with `.expect_` which makes autocompleting easy using tab.\n",
    "\n",
    "You can see all the available expectations in the **[expectation glossary](https://docs.greatexpectations.io/en/latest/reference/glossary_of_expectations.html?utm_source=notebook&utm_medium=create_expectations)**."
   ]
  },
  {
   "cell_type": "markdown",
   "id": "73309196",
   "metadata": {},
   "source": [
    "### Table Expectation(s)"
   ]
  },
  {
   "cell_type": "code",
   "execution_count": null,
   "id": "03189550",
   "metadata": {},
   "outputs": [],
   "source": [
    "batch.expect_table_column_count_to_equal(value=7)"
   ]
  },
  {
   "cell_type": "code",
   "execution_count": null,
   "id": "88594982",
   "metadata": {},
   "outputs": [],
   "source": [
    "batch.expect_table_columns_to_match_ordered_list(column_list=['user_id', 'timestamp', 'device_id', 'device_ip_addr', 'bytes_sent', 'bytes_received', 'src_name'])"
   ]
  },
  {
   "cell_type": "markdown",
   "id": "a983ade3",
   "metadata": {},
   "source": [
    "### Column Expectation(s)"
   ]
  },
  {
   "cell_type": "markdown",
   "id": "9230491d",
   "metadata": {},
   "source": [
    "#### `user_id`"
   ]
  },
  {
   "cell_type": "code",
   "execution_count": null,
   "id": "a2de28f5",
   "metadata": {},
   "outputs": [],
   "source": [
    "batch.expect_column_kl_divergence_to_be_less_than(column='user_id', threshold=0.01)"
   ]
  },
  {
   "cell_type": "markdown",
   "id": "ba1e6517",
   "metadata": {},
   "source": [
    "#### `device_id`"
   ]
  },
  {
   "cell_type": "code",
   "execution_count": null,
   "id": "5dbade15",
   "metadata": {},
   "outputs": [],
   "source": [
    "batch.expect_column_values_to_match_regex(column='device_id', regex='^(d)[\\d]{3}')"
   ]
  },
  {
   "cell_type": "markdown",
   "id": "3bf0504b",
   "metadata": {},
   "source": [
    "#### `device_ip_addr`"
   ]
  },
  {
   "cell_type": "code",
   "execution_count": null,
   "id": "4ea3de3e",
   "metadata": {},
   "outputs": [],
   "source": [
    "batch.expect_column_values_to_match_regex(column='device_ip_addr', regex='((?:(?:25[0-5]|2[0-4]\\d|((1\\d{2})|([1-9]?\\d)))\\.){3}(?:25[0-5]|2[0-4]\\d|((1\\d{2})|([1-9]?\\d))))')"
   ]
  },
  {
   "cell_type": "markdown",
   "id": "14acdfd5",
   "metadata": {},
   "source": [
    "#### `bytes_sent`"
   ]
  },
  {
   "cell_type": "code",
   "execution_count": null,
   "id": "ac0aa3c4",
   "metadata": {},
   "outputs": [],
   "source": [
    "batch.expect_column_min_to_be_between(column='bytes_sent', max_value=10000, min_value=0)"
   ]
  },
  {
   "cell_type": "markdown",
   "id": "2e679719",
   "metadata": {},
   "source": [
    "#### `bytes_received`"
   ]
  },
  {
   "cell_type": "code",
   "execution_count": null,
   "id": "8724d2b8",
   "metadata": {},
   "outputs": [],
   "source": [
    "batch.expect_column_max_to_be_between(column='bytes_received', max_value=50000, min_value=0)"
   ]
  },
  {
   "cell_type": "markdown",
   "id": "52a8b527",
   "metadata": {},
   "source": [
    "#### `src_name`"
   ]
  },
  {
   "cell_type": "code",
   "execution_count": null,
   "id": "02ad063f",
   "metadata": {},
   "outputs": [],
   "source": [
    "batch.expect_column_distinct_values_to_be_in_set(column='src_name', value_set=['stg_traffic'])"
   ]
  },
  {
   "cell_type": "markdown",
   "id": "0cc653d7",
   "metadata": {},
   "source": [
    "## Save & Review Your Expectations\n",
    "\n",
    "Let's save the expectation suite as a JSON file in the `great_expectations/expectations` directory of your project.\n",
    "If you decide not to save some expectations that you created, use [remove_expectation method](https://docs.greatexpectations.io/en/latest/autoapi/great_expectations/data_asset/index.html?highlight=remove_expectation&utm_source=notebook&utm_medium=edit_expectations#great_expectations.data_asset.DataAsset.remove_expectation).\n",
    "\n",
    "Let's now rebuild your Data Docs, which helps you communicate about your data with both machines and humans."
   ]
  },
  {
   "cell_type": "code",
   "execution_count": null,
   "id": "c0d21b07",
   "metadata": {},
   "outputs": [],
   "source": [
    "batch.save_expectation_suite(discard_failed_expectations=False)\n",
    "\n",
    "results = LegacyCheckpoint(\n",
    "    name=\"_temp_checkpoint\",\n",
    "    data_context=context,\n",
    "    batches=[\n",
    "        {\n",
    "          \"batch_kwargs\": batch_kwargs,\n",
    "          \"expectation_suite_names\": [expectation_suite_name]\n",
    "        }\n",
    "    ]\n",
    ").run()\n",
    "validation_result_identifier = results.list_validation_result_identifiers()[0]\n",
    "context.build_data_docs()\n",
    "context.open_data_docs(validation_result_identifier)"
   ]
  }
 ],
 "metadata": {
  "kernelspec": {
   "display_name": "Python 3",
   "language": "python",
   "name": "python3"
  },
  "language_info": {
   "codemirror_mode": {
    "name": "ipython",
    "version": 3
   },
   "file_extension": ".py",
   "mimetype": "text/x-python",
   "name": "python",
   "nbconvert_exporter": "python",
   "pygments_lexer": "ipython3",
   "version": "3.7.9"
  }
 },
 "nbformat": 4,
 "nbformat_minor": 5
}
