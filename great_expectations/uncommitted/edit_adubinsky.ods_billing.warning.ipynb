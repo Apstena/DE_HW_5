{
 "cells": [
  {
   "cell_type": "markdown",
   "id": "be800832",
   "metadata": {},
   "source": [
    "# Edit Your Expectation Suite\n",
    "Use this notebook to recreate and modify your expectation suite:\n",
    "\n",
    "**Expectation Suite Name**: `adubinsky.ods_billing.warning`\n",
    "\n",
    "We'd love it if you **reach out to us on** the [**Great Expectations Slack Channel**](https://greatexpectations.io/slack)"
   ]
  },
  {
   "cell_type": "code",
   "execution_count": null,
   "id": "4ee9f5a6",
   "metadata": {},
   "outputs": [],
   "source": [
    "import datetime\n",
    "import great_expectations as ge\n",
    "import great_expectations.jupyter_ux\n",
    "from great_expectations.checkpoint import LegacyCheckpoint\n",
    "from great_expectations.data_context.types.resource_identifiers import ValidationResultIdentifier\n",
    "\n",
    "context = ge.data_context.DataContext()\n",
    "\n",
    "# Feel free to change the name of your suite here. Renaming this will not\n",
    "# remove the other one.\n",
    "expectation_suite_name = \"adubinsky.ods_billing.warning\"\n",
    "suite = context.get_expectation_suite(expectation_suite_name)\n",
    "suite.expectations = []\n",
    "\n",
    "batch_kwargs = {'data_asset_name': 'adubinsky.ods_billing', 'datasource': 'gp', 'limit': 1000, 'schema': 'adubinsky', 'table': 'ods_billing'}\n",
    "batch = context.get_batch(batch_kwargs, suite)\n",
    "batch.head()"
   ]
  },
  {
   "cell_type": "markdown",
   "id": "e1fbaa0c",
   "metadata": {},
   "source": [
    "## Create & Edit Expectations\n",
    "\n",
    "Add expectations by calling specific expectation methods on the `batch` object. They all begin with `.expect_` which makes autocompleting easy using tab.\n",
    "\n",
    "You can see all the available expectations in the **[expectation glossary](https://docs.greatexpectations.io/en/latest/reference/glossary_of_expectations.html?utm_source=notebook&utm_medium=create_expectations)**."
   ]
  },
  {
   "cell_type": "markdown",
   "id": "26c49b4d",
   "metadata": {},
   "source": [
    "### Table Expectation(s)"
   ]
  },
  {
   "cell_type": "code",
   "execution_count": null,
   "id": "01399b6d",
   "metadata": {},
   "outputs": [],
   "source": [
    "batch.expect_table_column_count_to_equal(value=7)"
   ]
  },
  {
   "cell_type": "code",
   "execution_count": null,
   "id": "a9d7e829",
   "metadata": {},
   "outputs": [],
   "source": [
    "batch.expect_table_columns_to_match_ordered_list(column_list=['user_id', 'billing_period', 'service', 'tariff', 'sum', 'created_at', 'src_name'])"
   ]
  },
  {
   "cell_type": "markdown",
   "id": "23d10557",
   "metadata": {},
   "source": [
    "### Column Expectation(s)"
   ]
  },
  {
   "cell_type": "markdown",
   "id": "724af88a",
   "metadata": {},
   "source": [
    "#### `user_id`"
   ]
  },
  {
   "cell_type": "code",
   "execution_count": null,
   "id": "72bbf91d",
   "metadata": {},
   "outputs": [],
   "source": [
    "batch.expect_column_kl_divergence_to_be_less_than(column='user_id')"
   ]
  },
  {
   "cell_type": "markdown",
   "id": "ac23156f",
   "metadata": {},
   "source": [
    "#### `billing_period`"
   ]
  },
  {
   "cell_type": "code",
   "execution_count": null,
   "id": "f36a6163",
   "metadata": {},
   "outputs": [],
   "source": [
    "batch.expect_column_values_to_match_regex(column='billing_period', regex='^(20)(1|2)[0-9]{1}')"
   ]
  },
  {
   "cell_type": "markdown",
   "id": "07610c08",
   "metadata": {},
   "source": [
    "#### `service`"
   ]
  },
  {
   "cell_type": "code",
   "execution_count": null,
   "id": "d442da1c",
   "metadata": {},
   "outputs": [],
   "source": [
    "batch.expect_column_value_lengths_to_equal(column='service', value='14')"
   ]
  },
  {
   "cell_type": "markdown",
   "id": "290334bd",
   "metadata": {},
   "source": [
    "#### `tariff`"
   ]
  },
  {
   "cell_type": "code",
   "execution_count": null,
   "id": "c53356c6",
   "metadata": {},
   "outputs": [],
   "source": [
    "batch.expect_column_distinct_values_to_be_in_set(column='tariff', value_set=['Gigabyte', 'Maxi', 'Mini', 'Megabyte'])"
   ]
  },
  {
   "cell_type": "markdown",
   "id": "44307edd",
   "metadata": {},
   "source": [
    "#### `sum`"
   ]
  },
  {
   "cell_type": "code",
   "execution_count": null,
   "id": "e7cf4c99",
   "metadata": {},
   "outputs": [],
   "source": [
    "batch.expect_column_values_to_be_between(column='sum', max_value='10', min_value='0')"
   ]
  },
  {
   "cell_type": "markdown",
   "id": "9255f663",
   "metadata": {},
   "source": [
    "#### `created_at`"
   ]
  },
  {
   "cell_type": "code",
   "execution_count": null,
   "id": "6a812153",
   "metadata": {},
   "outputs": [],
   "source": [
    "batch.expect_column_values_to_be_between(column='created_at', max_value='2021-12-31', min_value='2013-01-01')"
   ]
  },
  {
   "cell_type": "markdown",
   "id": "04b7ba3e",
   "metadata": {},
   "source": [
    "#### `src_name`"
   ]
  },
  {
   "cell_type": "code",
   "execution_count": null,
   "id": "86b30f27",
   "metadata": {},
   "outputs": [],
   "source": [
    "batch.expect_column_distinct_values_to_be_in_set(column='src_name', value_set=['stg_billing'])"
   ]
  },
  {
   "cell_type": "markdown",
   "id": "b498f643",
   "metadata": {},
   "source": [
    "## Save & Review Your Expectations\n",
    "\n",
    "Let's save the expectation suite as a JSON file in the `great_expectations/expectations` directory of your project.\n",
    "If you decide not to save some expectations that you created, use [remove_expectation method](https://docs.greatexpectations.io/en/latest/autoapi/great_expectations/data_asset/index.html?highlight=remove_expectation&utm_source=notebook&utm_medium=edit_expectations#great_expectations.data_asset.DataAsset.remove_expectation).\n",
    "\n",
    "Let's now rebuild your Data Docs, which helps you communicate about your data with both machines and humans."
   ]
  },
  {
   "cell_type": "code",
   "execution_count": null,
   "id": "3628ae52",
   "metadata": {},
   "outputs": [],
   "source": [
    "batch.save_expectation_suite(discard_failed_expectations=False)\n",
    "\n",
    "results = LegacyCheckpoint(\n",
    "    name=\"_temp_checkpoint\",\n",
    "    data_context=context,\n",
    "    batches=[\n",
    "        {\n",
    "          \"batch_kwargs\": batch_kwargs,\n",
    "          \"expectation_suite_names\": [expectation_suite_name]\n",
    "        }\n",
    "    ]\n",
    ").run()\n",
    "validation_result_identifier = results.list_validation_result_identifiers()[0]\n",
    "context.build_data_docs()\n",
    "context.open_data_docs(validation_result_identifier)"
   ]
  }
 ],
 "metadata": {},
 "nbformat": 4,
 "nbformat_minor": 5
}
