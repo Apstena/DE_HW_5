{
 "cells": [
  {
   "cell_type": "markdown",
   "id": "1b4e9a7a",
   "metadata": {},
   "source": [
    "# Edit Your Expectation Suite\n",
    "Use this notebook to recreate and modify your expectation suite:\n",
    "\n",
    "**Expectation Suite Name**: `adubinsky.ods_issue.warning`\n",
    "\n",
    "We'd love it if you **reach out to us on** the [**Great Expectations Slack Channel**](https://greatexpectations.io/slack)"
   ]
  },
  {
   "cell_type": "code",
   "execution_count": null,
   "id": "d3960955",
   "metadata": {},
   "outputs": [],
   "source": [
    "import datetime\n",
    "import great_expectations as ge\n",
    "import great_expectations.jupyter_ux\n",
    "from great_expectations.checkpoint import LegacyCheckpoint\n",
    "from great_expectations.data_context.types.resource_identifiers import ValidationResultIdentifier\n",
    "\n",
    "context = ge.data_context.DataContext()\n",
    "\n",
    "# Feel free to change the name of your suite here. Renaming this will not\n",
    "# remove the other one.\n",
    "expectation_suite_name = \"adubinsky.ods_issue.warning\"\n",
    "suite = context.get_expectation_suite(expectation_suite_name)\n",
    "suite.expectations = []\n",
    "\n",
    "batch_kwargs = {'data_asset_name': 'adubinsky.ods_issue', 'datasource': 'gp', 'schema': 'adubinsky', 'table': 'ods_issue'}\n",
    "batch = context.get_batch(batch_kwargs, suite)\n",
    "batch.head()"
   ]
  },
  {
   "cell_type": "markdown",
   "id": "4763e2f8",
   "metadata": {},
   "source": [
    "## Create & Edit Expectations\n",
    "\n",
    "Add expectations by calling specific expectation methods on the `batch` object. They all begin with `.expect_` which makes autocompleting easy using tab.\n",
    "\n",
    "You can see all the available expectations in the **[expectation glossary](https://docs.greatexpectations.io/en/latest/reference/glossary_of_expectations.html?utm_source=notebook&utm_medium=create_expectations)**."
   ]
  },
  {
   "cell_type": "markdown",
   "id": "1f4180dd",
   "metadata": {},
   "source": [
    "### Table Expectation(s)"
   ]
  },
  {
   "cell_type": "code",
   "execution_count": null,
   "id": "b6f077af",
   "metadata": {},
   "outputs": [],
   "source": [
    "batch.expect_table_column_count_to_equal(value=7)"
   ]
  },
  {
   "cell_type": "code",
   "execution_count": null,
   "id": "3a8521fd",
   "metadata": {},
   "outputs": [],
   "source": [
    "batch.expect_table_columns_to_match_ordered_list(column_list=['user_id','start_time','end_time','title','description','service','src_name'])"
   ]
  },
  {
   "cell_type": "markdown",
   "id": "4f996a97",
   "metadata": {},
   "source": [
    "### Column Expectation(s)"
   ]
  },
  {
   "cell_type": "markdown",
   "id": "941155e6",
   "metadata": {},
   "source": [
    "#### `user_id`"
   ]
  },
  {
   "cell_type": "code",
   "execution_count": null,
   "id": "bfa80afd",
   "metadata": {},
   "outputs": [],
   "source": [
    "batch.expect_column_values_to_not_be_null(column='user_id')"
   ]
  },
  {
   "cell_type": "markdown",
   "id": "5966c800",
   "metadata": {},
   "source": [
    "#### `start_time`"
   ]
  },
  {
   "cell_type": "code",
   "execution_count": null,
   "id": "77c803d3",
   "metadata": {},
   "outputs": [],
   "source": [
    "batch.expect_column_values_to_be_between(column='start_time',min_value='2013-01-01',max_value='2021-12-31')"
   ]
  },
  {
   "cell_type": "markdown",
   "id": "fabc9a6b",
   "metadata": {},
   "source": [
    "#### `end_time`"
   ]
  },
  {
   "cell_type": "code",
   "execution_count": null,
   "id": "d1822c17",
   "metadata": {},
   "outputs": [],
   "source": [
    "batch.expect_column_values_to_be_between(column='end_time',min_value='2013-01-01',max_value='2021-12-31')"
   ]
  },
  {
   "cell_type": "markdown",
   "id": "1205a606",
   "metadata": {},
   "source": [
    "#### `title`"
   ]
  },
  {
   "cell_type": "code",
   "execution_count": null,
   "id": "98004dd0",
   "metadata": {},
   "outputs": [],
   "source": [
    "batch.expect_column_values_to_match_regex(column='title',regex='^[A-Za-z]+')"
   ]
  },
  {
   "cell_type": "markdown",
   "id": "3a1b5e4b",
   "metadata": {},
   "source": [
    "#### `description`"
   ]
  },
  {
   "cell_type": "code",
   "execution_count": null,
   "id": "1c0dac2f",
   "metadata": {},
   "outputs": [],
   "source": [
    "batch.expect_column_values_to_match_regex(column='description',regex='^[A-Za-z]+')"
   ]
  },
  {
   "cell_type": "markdown",
   "id": "8ba65d40",
   "metadata": {},
   "source": [
    "#### `service`"
   ]
  },
  {
   "cell_type": "code",
   "execution_count": null,
   "id": "60c8259f",
   "metadata": {},
   "outputs": [],
   "source": [
    "batch.expect_column_distinct_values_to_be_in_set(column='service', value_set=['Setup Environment','Connect','Disconnect'])"
   ]
  },
  {
   "cell_type": "markdown",
   "id": "13ee4419",
   "metadata": {},
   "source": [
    "#### `src_name`"
   ]
  },
  {
   "cell_type": "code",
   "execution_count": null,
   "id": "cd1fdb51",
   "metadata": {},
   "outputs": [],
   "source": [
    "batch.expect_column_distinct_values_to_be_in_set(column='src_name', value_set=['stg_issue'])"
   ]
  },
  {
   "cell_type": "markdown",
   "id": "f5b2d835",
   "metadata": {},
   "source": [
    "## Save & Review Your Expectations\n",
    "\n",
    "Let's save the expectation suite as a JSON file in the `great_expectations/expectations` directory of your project.\n",
    "If you decide not to save some expectations that you created, use [remove_expectation method](https://docs.greatexpectations.io/en/latest/autoapi/great_expectations/data_asset/index.html?highlight=remove_expectation&utm_source=notebook&utm_medium=edit_expectations#great_expectations.data_asset.DataAsset.remove_expectation).\n",
    "\n",
    "Let's now rebuild your Data Docs, which helps you communicate about your data with both machines and humans."
   ]
  },
  {
   "cell_type": "code",
   "execution_count": null,
   "id": "4bb1bdbd",
   "metadata": {},
   "outputs": [],
   "source": [
    "batch.save_expectation_suite(discard_failed_expectations=False)\n",
    "\n",
    "results = LegacyCheckpoint(\n",
    "    name=\"_temp_checkpoint\",\n",
    "    data_context=context,\n",
    "    batches=[\n",
    "        {\n",
    "          \"batch_kwargs\": batch_kwargs,\n",
    "          \"expectation_suite_names\": [expectation_suite_name]\n",
    "        }\n",
    "    ]\n",
    ").run()\n",
    "validation_result_identifier = results.list_validation_result_identifiers()[0]\n",
    "context.build_data_docs()\n",
    "context.open_data_docs(validation_result_identifier)"
   ]
  }
 ],
 "metadata": {
  "kernelspec": {
   "display_name": "Python 3",
   "language": "python",
   "name": "python3"
  },
  "language_info": {
   "codemirror_mode": {
    "name": "ipython",
    "version": 3
   },
   "file_extension": ".py",
   "mimetype": "text/x-python",
   "name": "python",
   "nbconvert_exporter": "python",
   "pygments_lexer": "ipython3",
   "version": "3.7.9"
  }
 },
 "nbformat": 4,
 "nbformat_minor": 5
}
